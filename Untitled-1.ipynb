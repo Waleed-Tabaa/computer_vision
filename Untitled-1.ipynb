{
 "cells": [
  {
   "cell_type": "code",
   "execution_count": 3,
   "metadata": {},
   "outputs": [
    {
     "ename": "SyntaxError",
     "evalue": "(unicode error) 'unicodeescape' codec can't decode bytes in position 2-3: truncated \\UXXXXXXXX escape (2647370124.py, line 11)",
     "output_type": "error",
     "traceback": [
      "\u001b[1;36m  Cell \u001b[1;32mIn[3], line 11\u001b[1;36m\u001b[0m\n\u001b[1;33m    dataset = pd.read_csv('C:\\Users\\wtaba\\OneDrive\\Desktop.csv')\u001b[0m\n\u001b[1;37m                                                               ^\u001b[0m\n\u001b[1;31mSyntaxError\u001b[0m\u001b[1;31m:\u001b[0m (unicode error) 'unicodeescape' codec can't decode bytes in position 2-3: truncated \\UXXXXXXXX escape\n"
     ]
    }
   ],
   "source": [
    "import pandas as pd\n",
    "from sklearn.model_selection import train_test_split\n",
    "from sklearn.linear_model import Perceptron\n",
    "from sklearn.neural_network import MLPClassifier\n",
    "from sklearn.model_selection import GridSearchCV\n",
    "from sklearn.metrics import accuracy_score, confusion_matrix, classification_report\n",
    "import matplotlib.pyplot as plt\n",
    "import seaborn as sns\n",
    "\n",
    "# قراءة مجموعة البيانات\n",
    "dataset = pd.read_csv('C:\\Users\\wtaba\\OneDrive\\Desktop.csv')\n",
    "\n",
    "# توصيف مجموعة البيانات\n",
    "print(f\"عدد العينات والميزات: {dataset.shape}\")\n",
    "print(dataset['الصنف'].value_counts())\n",
    "\n",
    "# عرض العينات في فضاء ثنائي البعد (scatter plot)\n",
    "sns.scatterplot(x='Feature1', y='Feature2', hue='الصنف', data=dataset)\n",
    "plt.show()\n",
    "\n",
    "# المعالجة المسبقة للبيانات (قم بتطبيق أي عمليات تناسب المشروع)\n",
    "# تجهيز مجموعة البيانات\n",
    "train_data, test_data = train_test_split(dataset, test_size=0.2, random_state=42)\n",
    "\n",
    "# تدريب نموذج Benchmark\n",
    "model_benchmark = Perceptron()\n",
    "model_benchmark.fit(train_data.drop('الصنف', axis=1), train_data['الصنف'])\n",
    "predictions_benchmark = model_benchmark.predict(test_data.drop('الصنف', axis=1))\n",
    "accuracy_benchmark = accuracy_score(test_data['الصنف'], predictions_benchmark)\n",
    "print(f\"دقة النموذج Benchmark: {accuracy_benchmark}\")\n",
    "\n",
    "# تدريب شبكة عصبونية\n",
    "model_neural_network = MLPClassifier(hidden_layer_sizes=(5,), max_iter=5000, random_state=42)\n",
    "model_neural_network.fit(train_data.drop('الصنف', axis=1), train_data['الصنف'])\n",
    "predictions_neural_network = model_neural_network.predict(test_data.drop('الصنف', axis=1))\n",
    "accuracy_neural_network = accuracy_score(test_data['الصنف'], predictions_neural_network)\n",
    "print(f\"دقة الشبكة العصبونية: {accuracy_neural_network}\")\n",
    "\n",
    "# قم بعرض confusion matrix\n",
    "cm = confusion_matrix(test_data['الصنف'], predictions_neural_network)\n",
    "sns.heatmap(cm, annot=True, fmt='d', cmap='Blues', xticklabels=model_neural_network.classes_, yticklabels=model_neural_network.classes_)\n",
    "plt.xlabel('التنبؤ')\n",
    "plt.ylabel('الحقيقي')\n",
    "plt.show()\n",
    "\n",
    "# classification report\n",
    "print(classification_report(test_data['الصنف'], predictions_neural_network))\n",
    "\n",
    "# بحث عن قيم الباراميترات الأفضل باستخدام GridSearchCV\n",
    "param_grid = {'hidden_layer_sizes': [(5,), (10,), (20,)]}\n",
    "grid_search = GridSearchCV(MLPClassifier(max_iter=5000, random_state=42), param_grid, cv=5)\n",
    "grid_search.fit(train_data.drop('الصنف', axis=1), train_data['الصنف'])\n",
    "\n",
    "# عرض أفضل قيم للباراميترات\n",
    "print(\"أفضل قيم للباراميترات:\", grid_search.best_params_)\n",
    "\n",
    "# إعادة تدريب الشبكة بأفضل قيم للباراميترات\n",
    "best_model_neural_network = grid_search.best_estimator_\n",
    "best_model_neural_network.fit(train_data.drop('الصنف', axis=1), train_data['الصنف'])\n",
    "\n",
    "# تقييم الدقة النهائية\n",
    "final_predictions = best_model_neural_network.predict(test_data.drop('الصنف', axis=1))\n",
    "final_accuracy = accuracy_score(test_data['الصنف'], final_predictions)\n",
    "print(f\"الدقة النهائية: {final_accuracy}\")\n"
   ]
  }
 ],
 "metadata": {
  "kernelspec": {
   "display_name": "base",
   "language": "python",
   "name": "python3"
  },
  "language_info": {
   "codemirror_mode": {
    "name": "ipython",
    "version": 3
   },
   "file_extension": ".py",
   "mimetype": "text/x-python",
   "name": "python",
   "nbconvert_exporter": "python",
   "pygments_lexer": "ipython3",
   "version": "3.11.5"
  }
 },
 "nbformat": 4,
 "nbformat_minor": 2
}
